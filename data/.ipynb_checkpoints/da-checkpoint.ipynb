{
 "cells": [
  {
   "cell_type": "markdown",
   "id": "652f97c1",
   "metadata": {},
   "source": [
    "# EDA for List_of_mountain_lakes_of_Switzerland"
   ]
  },
  {
   "cell_type": "code",
   "execution_count": 1,
   "id": "094c100d",
   "metadata": {},
   "outputs": [],
   "source": [
    "import pandas as pd\n",
    "import requests # library to handle requests\n",
    "from bs4 import BeautifulSoup\n",
    "import re\n",
    "import shutil\n",
    "from fake_useragent import UserAgent"
   ]
  },
  {
   "cell_type": "code",
   "execution_count": 2,
   "id": "17d7161f",
   "metadata": {},
   "outputs": [
    {
     "data": {
      "text/html": [
       "<div>\n",
       "<style scoped>\n",
       "    .dataframe tbody tr th:only-of-type {\n",
       "        vertical-align: middle;\n",
       "    }\n",
       "\n",
       "    .dataframe tbody tr th {\n",
       "        vertical-align: top;\n",
       "    }\n",
       "\n",
       "    .dataframe thead th {\n",
       "        text-align: right;\n",
       "    }\n",
       "</style>\n",
       "<table border=\"1\" class=\"dataframe\">\n",
       "  <thead>\n",
       "    <tr style=\"text-align: right;\">\n",
       "      <th></th>\n",
       "      <th>lake_id</th>\n",
       "      <th>Lake</th>\n",
       "      <th>Canton(s)</th>\n",
       "      <th>Elevation in m[2]</th>\n",
       "      <th>Area in ha[3]</th>\n",
       "      <th>Basin highest point[4]</th>\n",
       "      <th>Basin highest elevation in m</th>\n",
       "      <th>River basin</th>\n",
       "      <th>is_lake_link</th>\n",
       "      <th>link</th>\n",
       "      <th>latlng</th>\n",
       "      <th>with_geojson</th>\n",
       "    </tr>\n",
       "  </thead>\n",
       "  <tbody>\n",
       "    <tr>\n",
       "      <th>0</th>\n",
       "      <td>1</td>\n",
       "      <td>Theodulgletschersee</td>\n",
       "      <td>Valais</td>\n",
       "      <td>2851</td>\n",
       "      <td>7.76</td>\n",
       "      <td>Theodulhorn</td>\n",
       "      <td>3469</td>\n",
       "      <td>Rhone</td>\n",
       "      <td>False</td>\n",
       "      <td>https://en.wikipedia.org///wiki/Theodulgletsch...</td>\n",
       "      <td>[45.944444, 7.716667]</td>\n",
       "      <td>True</td>\n",
       "    </tr>\n",
       "    <tr>\n",
       "      <th>1</th>\n",
       "      <td>2</td>\n",
       "      <td>Lai d'Immez</td>\n",
       "      <td>Graubünden</td>\n",
       "      <td>2832</td>\n",
       "      <td>4.53</td>\n",
       "      <td>Piz d'Immez</td>\n",
       "      <td>3033</td>\n",
       "      <td>Danube</td>\n",
       "      <td>False</td>\n",
       "      <td>NaN</td>\n",
       "      <td>[46.7277984, 10.1338334]</td>\n",
       "      <td>True</td>\n",
       "    </tr>\n",
       "    <tr>\n",
       "      <th>2</th>\n",
       "      <td>3</td>\n",
       "      <td>Lej da Prüna</td>\n",
       "      <td>Graubünden</td>\n",
       "      <td>2815</td>\n",
       "      <td>4.03</td>\n",
       "      <td>West of Piz Pischa</td>\n",
       "      <td>3080</td>\n",
       "      <td>Danube</td>\n",
       "      <td>False</td>\n",
       "      <td>NaN</td>\n",
       "      <td>[46.818188, 8.227511999999999]</td>\n",
       "      <td>True</td>\n",
       "    </tr>\n",
       "    <tr>\n",
       "      <th>3</th>\n",
       "      <td>4</td>\n",
       "      <td>Lej da Pischa</td>\n",
       "      <td>Graubünden</td>\n",
       "      <td>2770</td>\n",
       "      <td>5.05</td>\n",
       "      <td>Piz Pischa</td>\n",
       "      <td>3138</td>\n",
       "      <td>Danube</td>\n",
       "      <td>False</td>\n",
       "      <td>NaN</td>\n",
       "      <td>[46.47142909999999, 9.9790387]</td>\n",
       "      <td>True</td>\n",
       "    </tr>\n",
       "    <tr>\n",
       "      <th>4</th>\n",
       "      <td>5</td>\n",
       "      <td>Chaltwassersee</td>\n",
       "      <td>Valais</td>\n",
       "      <td>2756</td>\n",
       "      <td>4.41</td>\n",
       "      <td>Monte Leone</td>\n",
       "      <td>3553</td>\n",
       "      <td>Rhone</td>\n",
       "      <td>False</td>\n",
       "      <td>NaN</td>\n",
       "      <td>[46.25839999999999, 8.078289999999999]</td>\n",
       "      <td>False</td>\n",
       "    </tr>\n",
       "  </tbody>\n",
       "</table>\n",
       "</div>"
      ],
      "text/plain": [
       "   lake_id                 Lake   Canton(s)  Elevation in m[2]  Area in ha[3]  \\\n",
       "0        1  Theodulgletschersee      Valais               2851           7.76   \n",
       "1        2          Lai d'Immez  Graubünden               2832           4.53   \n",
       "2        3         Lej da Prüna  Graubünden               2815           4.03   \n",
       "3        4        Lej da Pischa  Graubünden               2770           5.05   \n",
       "4        5       Chaltwassersee      Valais               2756           4.41   \n",
       "\n",
       "  Basin highest point[4]  Basin highest elevation in m River basin  \\\n",
       "0            Theodulhorn                          3469       Rhone   \n",
       "1            Piz d'Immez                          3033      Danube   \n",
       "2     West of Piz Pischa                          3080      Danube   \n",
       "3             Piz Pischa                          3138      Danube   \n",
       "4            Monte Leone                          3553       Rhone   \n",
       "\n",
       "   is_lake_link                                               link  \\\n",
       "0         False  https://en.wikipedia.org///wiki/Theodulgletsch...   \n",
       "1         False                                                NaN   \n",
       "2         False                                                NaN   \n",
       "3         False                                                NaN   \n",
       "4         False                                                NaN   \n",
       "\n",
       "                                   latlng  with_geojson  \n",
       "0                   [45.944444, 7.716667]          True  \n",
       "1                [46.7277984, 10.1338334]          True  \n",
       "2          [46.818188, 8.227511999999999]          True  \n",
       "3          [46.47142909999999, 9.9790387]          True  \n",
       "4  [46.25839999999999, 8.078289999999999]         False  "
      ]
     },
     "execution_count": 2,
     "metadata": {},
     "output_type": "execute_result"
    }
   ],
   "source": [
    "df = pd.read_csv(\"mountain_lake.csv\")\n",
    "df.head()"
   ]
  },
  {
   "cell_type": "markdown",
   "id": "234871f0",
   "metadata": {},
   "source": [
    "The links are not all valid, it can be page not exist or a page of mountain/glacier. Links to page that talks about mountain/glacier but not related to lake/dam/reservoir at all are abandoned. For page of mountain/glacier but keywords like lake/dam/reservoir are contained in the passage, is_lake_link is False but the link will be stored. Only for papge of the lake/dam/reservoir the is_lake_link is True and the link is stored."
   ]
  },
  {
   "cell_type": "code",
   "execution_count": 3,
   "id": "ae29bb86",
   "metadata": {},
   "outputs": [
    {
     "data": {
      "text/plain": [
       "Unnamed: 0                      217\n",
       "Lake                            217\n",
       "Canton(s)                       217\n",
       "Elevation in m[2]               217\n",
       "Area in ha[3]                   217\n",
       "Basin highest point[4]          217\n",
       "Basin highest elevation in m    217\n",
       "River basin                     217\n",
       "is_lake_link                    217\n",
       "link                            168\n",
       "lake_id                         217\n",
       "dtype: int64"
      ]
     },
     "execution_count": 3,
     "metadata": {},
     "output_type": "execute_result"
    }
   ],
   "source": [
    "df.count()"
   ]
  },
  {
   "cell_type": "code",
   "execution_count": 4,
   "id": "735026d8",
   "metadata": {},
   "outputs": [
    {
     "data": {
      "text/plain": [
       "True     154\n",
       "False     63\n",
       "Name: is_lake_link, dtype: int64"
      ]
     },
     "execution_count": 4,
     "metadata": {},
     "output_type": "execute_result"
    }
   ],
   "source": [
    "df['is_lake_link'].value_counts()"
   ]
  },
  {
   "cell_type": "markdown",
   "id": "071dfa0b",
   "metadata": {},
   "source": [
    "So we have 168 links in total for 217 lakes. However only 154 links are to the lake's own page, the rest 14 links to other content but mention the lake, in which NLP can be applied later to extract information of the lake."
   ]
  },
  {
   "cell_type": "code",
   "execution_count": 5,
   "id": "513879a4",
   "metadata": {},
   "outputs": [
    {
     "data": {
      "text/plain": [
       "Canton(s)\n",
       "Appenzell Innerrhoden     3\n",
       "Bern                     22\n",
       "Fribourg                  2\n",
       "Glarus                    7\n",
       "Graubünden               63\n",
       "Graubünden/Ticino         1\n",
       "Jura                      1\n",
       "Neuchâtel                 1\n",
       "Nidwalden                 2\n",
       "Obwalden                  5\n",
       "Schwyz                    4\n",
       "St. Gallen                8\n",
       "Ticino                   33\n",
       "Ticino/Valais             1\n",
       "Uri                       9\n",
       "Valais                   48\n",
       "Vaud                      7\n",
       "dtype: int64"
      ]
     },
     "execution_count": 5,
     "metadata": {},
     "output_type": "execute_result"
    }
   ],
   "source": [
    "df.groupby('Canton(s)').size()"
   ]
  },
  {
   "cell_type": "markdown",
   "id": "767ea603",
   "metadata": {},
   "source": [
    "### Alpine Lakes (located above 2000 meters)"
   ]
  },
  {
   "cell_type": "code",
   "execution_count": 6,
   "id": "9cf54a13",
   "metadata": {},
   "outputs": [],
   "source": [
    "# change the elevation from string to int\n",
    "df['Elevation in m[2]'] = df['Elevation in m[2]'].astype(int)"
   ]
  },
  {
   "cell_type": "code",
   "execution_count": 7,
   "id": "9ff0aef9",
   "metadata": {},
   "outputs": [
    {
     "data": {
      "text/plain": [
       "Unnamed: 0                      101\n",
       "Lake                            101\n",
       "Canton(s)                       101\n",
       "Elevation in m[2]               101\n",
       "Area in ha[3]                   101\n",
       "Basin highest point[4]          101\n",
       "Basin highest elevation in m    101\n",
       "River basin                     101\n",
       "is_lake_link                    101\n",
       "link                             65\n",
       "lake_id                         101\n",
       "dtype: int64"
      ]
     },
     "execution_count": 7,
     "metadata": {},
     "output_type": "execute_result"
    }
   ],
   "source": [
    "df_2000 = df[df['Elevation in m[2]']>2000]\n",
    "df_2000.count()"
   ]
  },
  {
   "cell_type": "code",
   "execution_count": 8,
   "id": "c31f0e79",
   "metadata": {},
   "outputs": [
    {
     "data": {
      "text/plain": [
       "True     53\n",
       "False    48\n",
       "Name: is_lake_link, dtype: int64"
      ]
     },
     "execution_count": 8,
     "metadata": {},
     "output_type": "execute_result"
    }
   ],
   "source": [
    "df_2000['is_lake_link'].value_counts()"
   ]
  },
  {
   "cell_type": "code",
   "execution_count": null,
   "id": "5efb8db3",
   "metadata": {},
   "outputs": [],
   "source": []
  },
  {
   "cell_type": "markdown",
   "id": "586b212f",
   "metadata": {},
   "source": [
    "## Collect info from lake page"
   ]
  },
  {
   "cell_type": "markdown",
   "id": "68d91dea",
   "metadata": {},
   "source": [
    "First look at the lake's page, i.e. is_lake_link = True, then go to the page. Collect info like max length, max width, max depth, water volume, coordination, img, type."
   ]
  },
  {
   "cell_type": "code",
   "execution_count": 67,
   "id": "dc144cf5",
   "metadata": {},
   "outputs": [],
   "source": [
    "lake_id = [] # refers to the previous dataframe\n",
    "lake_img = [] # store a list of links to the imgs for each lake also redirect to the wikimedia page if it exists!!\n",
    "coordinates = []\n",
    "lake_type = []\n",
    "max_length = []\n",
    "max_width = []\n",
    "max_depth = []\n",
    "#average_depth = []\n",
    "water_volume = []\n",
    "if_external_link = []\n",
    "\n",
    "text = [] # store the text in the wiki entry of the lake\n",
    "\n",
    "for index, row in df.iterrows():\n",
    "    if(row['is_lake_link'] == True):\n",
    "        lake_id.append(row['lake_id'])\n",
    "        \n",
    "        response = requests.get(row['link'])\n",
    "        soup = BeautifulSoup(response.text, 'html.parser')\n",
    "        \n",
    "        # extract the plain text content from paragraphs\n",
    "        this_text = ''\n",
    "        for paragraph in soup.find('div',{'class':'mw-parser-output'}).find_all('p',{'class':''}):\n",
    "            this_text += paragraph.text\n",
    "        # clean text \n",
    "        this_text = re.sub(r'\\[.*?\\]+', '', this_text)\n",
    "        this_text = this_text.replace('\\n', '')\n",
    "        text.append(this_text)\n",
    "        \n",
    "        # get images from wikimeida\n",
    "        this_imgs = []\n",
    "        for external_link in soup.find_all('a',href=True):\n",
    "            if('https://commons.wikimedia.org/' in str(external_link)):\n",
    "                # go to the wiki media page and scrap all images, store the link in the list\n",
    "                wikimedia_response = requests.get(external_link['href'])\n",
    "                wikimedia_soup = BeautifulSoup(wikimedia_response.text, 'html.parser')\n",
    "                for i in wikimedia_soup.find_all('img',src=True):\n",
    "                    img_height = i.get('height')\n",
    "                    img_link = i.get('src')\n",
    "                    if('upload.wikimedia.org' not in img_link):\n",
    "                        continue\n",
    "                    # discard map\n",
    "                    if('_map.' in img_link):\n",
    "                        continue\n",
    "                    if(img_height and int(img_height)>50):\n",
    "                        # get link to the original pictures\n",
    "                        new_link = img_link.replace(\"thumb/\", \"\")\n",
    "                        new_link = new_link[:new_link.rindex('/')]\n",
    "                        if(new_link not in this_imgs):\n",
    "                            this_imgs.append(new_link)\n",
    "                \n",
    "        \n",
    "        table = soup.find_all('table',{'class':\"infobox vcard\"})[0]\n",
    "        #print(table)\n",
    "        #get coordinates\n",
    "        latitude = None\n",
    "        longitude = None\n",
    "        if(table.find('span', {'class':'latitude'})):\n",
    "            latitude = table.find('span', {'class':'latitude'}).text\n",
    "            longitude = table.find('span', {'class':'longitude'}).text\n",
    "        coordinates.append((latitude, longitude))\n",
    "        \n",
    "        #get images from current page\n",
    "        for raw_img in soup.find_all('img'):\n",
    "            # if the height of the img is smaller than 100 it is probably a icon \n",
    "            img_height = raw_img.get('height')\n",
    "            img_link = raw_img.get('src')\n",
    "            if('upload.wikimedia.org' not in img_link):\n",
    "                continue\n",
    "            # discard map\n",
    "            if('_map.' in img_link):\n",
    "                continue\n",
    "            if(img_height and int(img_height)>50):\n",
    "                # get link to the original pictures\n",
    "                new_link = img_link.replace(\"thumb/\", \"\")\n",
    "                new_link = new_link[:new_link.rindex('/')]\n",
    "                if(new_link not in this_imgs):\n",
    "                    this_imgs.append(new_link)\n",
    "                \n",
    "        \n",
    "        this_type = 'NA'\n",
    "        this_max_length = 'NA'\n",
    "        this_max_width = 'NA'\n",
    "        this_max_depth = 'NA'\n",
    "        this_water_volume = 'NA'\n",
    "        \n",
    "        # first tr is the title skip it\n",
    "        for row in table.find_all('tr')[1:]:\n",
    "            if(not row.find('th')):\n",
    "                continue\n",
    "            elif('Type' in row.find('th').text):\n",
    "                this_type = row.find('td').text\n",
    "            elif('Max. length' in row.find('th').text):\n",
    "                this_max_length = row.find('td').text\n",
    "            elif('Max. width' in row.find('th').text):\n",
    "                this_max_width = row.find('td').text\n",
    "            elif('Max. depth' in row.find('th').text):\n",
    "                this_max_depth = row.find('td').text\n",
    "            elif('Water volume' in row.find('th').text):\n",
    "                this_water_volume = row.find('td').text\n",
    "        \n",
    "        this_external_link = False\n",
    "        if(soup.find('span', {'id': 'External_links'})):\n",
    "            this_external_link = True\n",
    "        \n",
    "        \n",
    "        lake_type.append(this_type)\n",
    "        lake_img.append(this_imgs)\n",
    "        max_length.append(this_max_length)\n",
    "        max_width.append(this_max_width)\n",
    "        max_depth.append(this_max_depth)\n",
    "        water_volume.append(this_water_volume)\n",
    "        if_external_link.append(this_external_link)\n",
    "        "
   ]
  },
  {
   "cell_type": "code",
   "execution_count": null,
   "id": "d741d916",
   "metadata": {},
   "outputs": [],
   "source": [
    "da = {'lake_id': lake_id, 'description': text, 'lake_img': lake_img, 'coordinates': coordinates, 'lake_type':lake_type,\n",
    "       'max_length':max_length, 'max_width':max_width, 'max_depth':max_depth, 'water_volume':water_volume,\n",
    "       'if_external_link':if_external_link}\n",
    "df2 = pd.DataFrame(data=da)"
   ]
  },
  {
   "cell_type": "code",
   "execution_count": 69,
   "id": "a9084925",
   "metadata": {},
   "outputs": [],
   "source": [
    "df2.to_csv('placeholder.csv',index=False)"
   ]
  },
  {
   "cell_type": "code",
   "execution_count": 70,
   "id": "70d027d6",
   "metadata": {},
   "outputs": [
    {
     "data": {
      "text/plain": [
       "True     101\n",
       "False     53\n",
       "Name: if_external_link, dtype: int64"
      ]
     },
     "execution_count": 70,
     "metadata": {},
     "output_type": "execute_result"
    }
   ],
   "source": [
    "df2['if_external_link'].value_counts()"
   ]
  },
  {
   "cell_type": "code",
   "execution_count": 71,
   "id": "74ddcf9a",
   "metadata": {},
   "outputs": [
    {
     "data": {
      "text/plain": [
       "NA                                          73\n",
       "reservoir                                   47\n",
       "natural lake, reservoir                      7\n",
       "natural lake                                 5\n",
       "artificial lake                              4\n",
       "natural, reservoir                           3\n",
       "reservoir, natural lake                      2\n",
       "Glacial lake                                 1\n",
       "oligotrophic, holomictic                     1\n",
       "natural                                      1\n",
       "oligotrophic, dimictic                       1\n",
       "Alpine                                       1\n",
       "meromictic                                   1\n",
       "meromictic, reservoir                        1\n",
       "reservoir, natural lake, oligotrophic        1\n",
       "artificial lake, hydroelectric reservoir     1\n",
       "hydroelectric reservoir                      1\n",
       "Gravity dam                                  1\n",
       "natural freshwater lake                      1\n",
       "artificial lake, bog                         1\n",
       "Name: lake_type, dtype: int64"
      ]
     },
     "execution_count": 71,
     "metadata": {},
     "output_type": "execute_result"
    }
   ],
   "source": [
    "df2['lake_type'].value_counts()"
   ]
  },
  {
   "cell_type": "markdown",
   "id": "774260ec",
   "metadata": {},
   "source": [
    "## Download Images from the links"
   ]
  },
  {
   "cell_type": "code",
   "execution_count": null,
   "id": "201dfb57",
   "metadata": {},
   "outputs": [],
   "source": [
    "df2 = pd.read_csv(\"from_lake_entry.csv\")"
   ]
  },
  {
   "cell_type": "code",
   "execution_count": 14,
   "id": "9427d0a8",
   "metadata": {},
   "outputs": [],
   "source": [
    "FAKE_HEADERS = {'User-Agent': UserAgent().random}\n",
    "        \n",
    "for index, row in df2.iterrows():\n",
    "    links = row['new_imgs'][1:-1]\n",
    "    if(len(links)<2 or row['lake_id']<143):\n",
    "        continue\n",
    "    links = links.split(', ')\n",
    "    for link in links:\n",
    "        #print(links[1:-1])\n",
    "        link = link[1:-1]\n",
    "        if(not link.startswith('http')):\n",
    "            link = 'https:'+link\n",
    "            \n",
    "        res = requests.get(link, headers=FAKE_HEADERS, stream = True)      \n",
    "        name = str(row['lake_id']) + '_' + link.split('/')[-1]\n",
    "        #print(res.status_code)\n",
    "        if(res.status_code == 200):\n",
    "            res.raw.decode_content = True\n",
    "            \n",
    "            with open(name,'wb') as f:\n",
    "                    shutil.copyfileobj(res.raw, f)\n",
    "        else:\n",
    "            print(link, name)"
   ]
  },
  {
   "cell_type": "markdown",
   "id": "f70b83de",
   "metadata": {},
   "source": [
    "## NLP"
   ]
  },
  {
   "cell_type": "code",
   "execution_count": 4,
   "id": "1473fbca",
   "metadata": {},
   "outputs": [],
   "source": [
    "import nltk\n",
    "from nltk.tokenize import word_tokenize\n",
    "from nltk.tag import pos_tag\n",
    "\n",
    "import spacy\n",
    "from spacy import displacy\n",
    "from collections import Counter\n",
    "import en_core_web_sm\n",
    "nlp = en_core_web_sm.load()"
   ]
  },
  {
   "cell_type": "markdown",
   "id": "2b6371f6",
   "metadata": {},
   "source": [
    "#### NER"
   ]
  },
  {
   "cell_type": "markdown",
   "id": "f5075fd0",
   "metadata": {},
   "source": [
    "Abbreviation\tMeaning\n",
    "CC\tcoordinating conjunction\n",
    "CD\tcardinal digit\n",
    "DT\tdeterminer\n",
    "EX\texistential there\n",
    "FW\tforeign word\n",
    "IN\tpreposition/subordinating conjunction\n",
    "JJ\tThis NLTK POS Tag is an adjective (large)\n",
    "JJR\tadjective, comparative (larger)\n",
    "JJS\tadjective, superlative (largest)\n",
    "LS\tlist market\n",
    "MD\tmodal (could, will)\n",
    "NN\tnoun, singular (cat, tree)\n",
    "NNS\tnoun plural (desks)\n",
    "NNP\tproper noun, singular (sarah)\n",
    "NNPS\tproper noun, plural (indians or americans)\n",
    "PDT\tpredeterminer (all, both, half)\n",
    "POS\tpossessive ending (parent\\ ‘s)\n",
    "PRP\tpersonal pronoun (hers, herself, him, himself)\n",
    "PRP$\tpossessive pronoun (her, his, mine, my, our )\n",
    "RB\tadverb (occasionally, swiftly)\n",
    "RBR\tadverb, comparative (greater)\n",
    "RBS\tadverb, superlative (biggest)\n",
    "RP\tparticle (about)\n",
    "TO\tinfinite marker (to)\n",
    "UH\tinterjection (goodbye)\n",
    "VB\tverb (ask)\n",
    "VBG\tverb gerund (judging)\n",
    "VBD\tverb past tense (pleaded)\n",
    "VBN\tverb past participle (reunified)\n",
    "VBP\tverb, present tense not 3rd person singular(wrap)\n",
    "VBZ\tverb, present tense with 3rd person singular (bases)\n",
    "WDT\twh-determiner (that, what)\n",
    "WP\twh- pronoun (who)\n",
    "WRB\twh- adverb (how)\n"
   ]
  },
  {
   "cell_type": "code",
   "execution_count": 16,
   "id": "9388c436",
   "metadata": {},
   "outputs": [
    {
     "name": "stdout",
     "output_type": "stream",
     "text": [
      "(S\n",
      "  (NE Bortelsee/NNP)\n",
      "  is/VBZ\n",
      "  a/DT\n",
      "  reservoir/NN\n",
      "  in/IN\n",
      "  the/DT\n",
      "  municipality/NN\n",
      "  of/IN\n",
      "  (NE Brig/NNP)\n",
      "  in/IN\n",
      "  the/DT\n",
      "  canton/NN\n",
      "  of/IN\n",
      "  (NE Valais/NNP)\n",
      "  ,/,\n",
      "  (NE Switzerland/NNP)\n",
      "  ./.\n",
      "  Its/PRP$\n",
      "  dam/NN\n",
      "  was/VBD\n",
      "  built/VBN\n",
      "  in/IN\n",
      "  1989/CD\n",
      "  ./.)\n"
     ]
    }
   ],
   "source": [
    "sent = nltk.word_tokenize(df2['description'][10])\n",
    "sent = nltk.pos_tag(sent)\n",
    "\n",
    "ne = nltk.ne_chunk(sent,binary=True)\n",
    "print(ne)"
   ]
  },
  {
   "cell_type": "code",
   "execution_count": 11,
   "id": "9e035002",
   "metadata": {},
   "outputs": [
    {
     "data": {
      "text/plain": [
       "'Bortelsee is a reservoir in the municipality of Brig in the canton of Valais, Switzerland. Its dam was built in 1989.'"
      ]
     },
     "execution_count": 11,
     "metadata": {},
     "output_type": "execute_result"
    }
   ],
   "source": [
    "df2['description'][10]"
   ]
  },
  {
   "cell_type": "code",
   "execution_count": 10,
   "id": "0105e310",
   "metadata": {},
   "outputs": [
    {
     "name": "stdout",
     "output_type": "stream",
     "text": [
      "[('Bortelsee', 'GPE'), ('Brig', 'PERSON'), ('Valais', 'GPE'), ('Switzerland', 'GPE'), ('1989', 'DATE')]\n"
     ]
    }
   ],
   "source": [
    "doc = nlp(df2['description'][10])\n",
    "print([(X.text, X.label_) for X in doc.ents])"
   ]
  },
  {
   "cell_type": "markdown",
   "id": "decc2147",
   "metadata": {},
   "source": [
    "#### Summary"
   ]
  },
  {
   "cell_type": "code",
   "execution_count": 20,
   "id": "8fbdc892",
   "metadata": {},
   "outputs": [],
   "source": [
    "from string import punctuation\n",
    "from nltk.corpus import stopwords\n",
    "from nltk.tokenize import word_tokenize\n",
    "from nltk.tokenize import sent_tokenize\n",
    "from heapq import nlargest"
   ]
  },
  {
   "cell_type": "code",
   "execution_count": 21,
   "id": "e8176e8a",
   "metadata": {},
   "outputs": [],
   "source": [
    "stopwords = stopwords.words('english')\n",
    "punc = punctuation+'\\n'"
   ]
  },
  {
   "cell_type": "code",
   "execution_count": null,
   "id": "b2a91240",
   "metadata": {},
   "outputs": [],
   "source": [
    "text = df2['description'][13] #########\n",
    "tokens = word_tokenize(text)\n",
    "word_frequencies = {}\n",
    "for i in tokens:\n",
    "    t = i.lower()\n",
    "    if t not in punc and t not in stopwords:\n",
    "        if t not in word_frequencies.keys():\n",
    "            word_frequencies[t] = 1\n",
    "        else:\n",
    "            word_frequencies[t] += 1"
   ]
  },
  {
   "cell_type": "code",
   "execution_count": 35,
   "id": "592bcc9f",
   "metadata": {},
   "outputs": [],
   "source": [
    "max_freq = max(word_frequencies.values())\n",
    "for word in word_frequencies.keys():\n",
    "    word_frequencies[word] = word_frequencies[word]/max_freq\n"
   ]
  },
  {
   "cell_type": "code",
   "execution_count": 36,
   "id": "84fa7d69",
   "metadata": {},
   "outputs": [
    {
     "data": {
      "text/plain": [
       "{'Geisspfadsee is a lake in Valais, Switzerland.': 2.5,\n",
       " 'Its surface area is 18\\xa0ha (44 acres).': 3.0,\n",
       " 'The lake is located in the municipality of Binn, at an elevation of 2439 m. It drains into Züesee (2420 m).': 5.5,\n",
       " 'The nearby border to Italy can be crossed at two mountain passes: Geisspfadpass (Passo della Rossa) and Grampielpass (Passo di Crampiolo).': 8.5,\n",
       " \"The name 'geisspfad' means, only goat may pass.\": 4.0,\n",
       " \"A 'geiss' is a female goat in local mother tongue.\": 3.5,\n",
       " 'Smugglers used this pass in recent times too, but it was never accessible with horses or donkeys for payloads.': 5.5}"
      ]
     },
     "execution_count": 36,
     "metadata": {},
     "output_type": "execute_result"
    }
   ],
   "source": [
    "sent_tokens = sent_tokenize(text)\n",
    "sent_weights = {}\n",
    "for sent in sent_tokens:\n",
    "    for word in word_tokenize(sent.lower()):\n",
    "        if(word in word_frequencies.keys()):\n",
    "            if(sent not in sent_weights.keys()):\n",
    "                sent_weights[sent] = word_frequencies[word]\n",
    "            else:\n",
    "                sent_weights[sent] += word_frequencies[word]\n",
    "        \n",
    "sent_weights        "
   ]
  },
  {
   "cell_type": "code",
   "execution_count": 37,
   "id": "e5efeef5",
   "metadata": {},
   "outputs": [
    {
     "data": {
      "text/plain": [
       "'The nearby border to Italy can be crossed at two mountain passes: Geisspfadpass (Passo della Rossa) and Grampielpass (Passo di Crampiolo).The lake is located in the municipality of Binn, at an elevation of 2439 m. It drains into Züesee (2420 m).'"
      ]
     },
     "execution_count": 37,
     "metadata": {},
     "output_type": "execute_result"
    }
   ],
   "source": [
    "select_length = int(len(sent_weights)*0.3)\n",
    "summary = nlargest(select_length, sent_weights, key = sent_weights.get)\n",
    "final_summary = [word for word in summary]\n",
    "summa = ''.join(final_summary)\n",
    "summa"
   ]
  },
  {
   "cell_type": "markdown",
   "id": "4b5e569c",
   "metadata": {},
   "source": [
    "# Get LatLng for all lakes from google API"
   ]
  },
  {
   "cell_type": "code",
   "execution_count": 49,
   "id": "797b7225",
   "metadata": {},
   "outputs": [],
   "source": [
    "latlng = []\n",
    "for index, row in df.iterrows():\n",
    "    name = row['Lake']\n",
    "    this_ll = None\n",
    "    qry = name.replace(' ', '+')\n",
    "    response = requests.get('https://maps.googleapis.com/maps/api/geocode/json?address='+qry+',+Switzerland&key=-')\n",
    "    resp_json_payload = response.json()\n",
    "    if(resp_json_payload['status']=='OK'):\n",
    "        for i in resp_json_payload['results']:\n",
    "            if('geometry' in i):\n",
    "                if(i['geometry']['location']):\n",
    "                    this_ll = [i['geometry']['location']['lat'],i['geometry']['location']['lng']]\n",
    "                    break\n",
    "        \n",
    "    latlng.append(this_ll)"
   ]
  },
  {
   "cell_type": "markdown",
   "id": "5b42e10b",
   "metadata": {},
   "source": [
    "## Lakes in the SiwssTopo dataset"
   ]
  },
  {
   "cell_type": "code",
   "execution_count": 130,
   "id": "a4d30168",
   "metadata": {},
   "outputs": [],
   "source": [
    "import geojson\n",
    "with open('lake.geojson') as f:\n",
    "    gj = geojson.load(f)"
   ]
  },
  {
   "cell_type": "code",
   "execution_count": 105,
   "id": "8b893304",
   "metadata": {},
   "outputs": [
    {
     "data": {
      "text/plain": [
       "{\"geometry\": {\"coordinates\": [[[7.93612, 47.397061], [7.936144, 47.397073], [7.936159, 47.397069], [7.936166, 47.39706], [7.936184, 47.397064], [7.936217, 47.397046], [7.936292, 47.39701], [7.93634, 47.396981], [7.93637, 47.396948], [7.936372, 47.396931], [7.936357, 47.396922], [7.9363, 47.396915], [7.936241, 47.39691], [7.936197, 47.396911], [7.936165, 47.396914], [7.936155, 47.396932], [7.93613, 47.396978], [7.936121, 47.397039], [7.93612, 47.397061]]], \"type\": \"Polygon\"}, \"properties\": {\"name\": \"Falkensteinweiher\"}, \"type\": \"Feature\"}"
      ]
     },
     "execution_count": 105,
     "metadata": {},
     "output_type": "execute_result"
    }
   ],
   "source": [
    "gj['features'][0]"
   ]
  },
  {
   "cell_type": "code",
   "execution_count": 106,
   "id": "653b0431",
   "metadata": {},
   "outputs": [
    {
     "data": {
      "text/plain": [
       "1263"
      ]
     },
     "execution_count": 106,
     "metadata": {},
     "output_type": "execute_result"
    }
   ],
   "source": [
    "len(gj['features'])"
   ]
  },
  {
   "cell_type": "code",
   "execution_count": 107,
   "id": "77db7909",
   "metadata": {},
   "outputs": [],
   "source": [
    "# all lakes that have geotopo info\n",
    "lake_names = []\n",
    "for lake in gj['features']:\n",
    "    lake_names.append(lake['properties']['name'])"
   ]
  },
  {
   "cell_type": "code",
   "execution_count": 115,
   "id": "cf314612",
   "metadata": {},
   "outputs": [],
   "source": [
    "data = pd.read_csv(\"full_data.csv\")"
   ]
  },
  {
   "cell_type": "code",
   "execution_count": 109,
   "id": "9ac18188",
   "metadata": {},
   "outputs": [],
   "source": [
    "with_geojson = []\n",
    "for index, row in data.iterrows():\n",
    "    name = row['Lake']\n",
    "    if(name in lake_names):\n",
    "        with_geojson.append(True)\n",
    "    else:\n",
    "        with_geojson.append(False)"
   ]
  },
  {
   "cell_type": "code",
   "execution_count": 110,
   "id": "b0facf86",
   "metadata": {},
   "outputs": [
    {
     "data": {
      "text/plain": [
       "164"
      ]
     },
     "execution_count": 110,
     "metadata": {},
     "output_type": "execute_result"
    }
   ],
   "source": [
    "sum(with_geojson)"
   ]
  },
  {
   "cell_type": "code",
   "execution_count": 111,
   "id": "5c7e87de",
   "metadata": {},
   "outputs": [],
   "source": [
    "data['with_geojson'] = with_geojson"
   ]
  },
  {
   "cell_type": "code",
   "execution_count": 112,
   "id": "18b04f97",
   "metadata": {},
   "outputs": [],
   "source": [
    "df_nogeo = data[data['with_geojson']==False]"
   ]
  },
  {
   "cell_type": "code",
   "execution_count": 113,
   "id": "985f0e5a",
   "metadata": {},
   "outputs": [
    {
     "data": {
      "text/plain": [
       "4                    Chaltwassersee\n",
       "5                        Favergesee\n",
       "8                Chüebodengletscher\n",
       "17                 Laghet la Greina\n",
       "23             Jöriseen (east lake)\n",
       "                   ...             \n",
       "231    Vordersee \"Marjalen-Stausee\"\n",
       "232           Petit Aletsch 1 (PA1)\n",
       "233           Petit Aletsch 2 (PA2)\n",
       "234           Petit Aletsch 3 (PA3)\n",
       "235                     Marjelensee\n",
       "Name: Lake, Length: 73, dtype: object"
      ]
     },
     "execution_count": 113,
     "metadata": {},
     "output_type": "execute_result"
    }
   ],
   "source": [
    "df_nogeo['Lake']"
   ]
  },
  {
   "cell_type": "code",
   "execution_count": 114,
   "id": "3d25d903",
   "metadata": {},
   "outputs": [],
   "source": [
    "data.to_csv('full_data.csv',index=False)"
   ]
  },
  {
   "cell_type": "markdown",
   "id": "52a3c655",
   "metadata": {},
   "source": [
    "## Conbine CSVs into one that can be used on visualization"
   ]
  },
  {
   "cell_type": "code",
   "execution_count": 53,
   "id": "9e19d51e",
   "metadata": {},
   "outputs": [
    {
     "data": {
      "text/html": [
       "<div>\n",
       "<style scoped>\n",
       "    .dataframe tbody tr th:only-of-type {\n",
       "        vertical-align: middle;\n",
       "    }\n",
       "\n",
       "    .dataframe tbody tr th {\n",
       "        vertical-align: top;\n",
       "    }\n",
       "\n",
       "    .dataframe thead th {\n",
       "        text-align: right;\n",
       "    }\n",
       "</style>\n",
       "<table border=\"1\" class=\"dataframe\">\n",
       "  <thead>\n",
       "    <tr style=\"text-align: right;\">\n",
       "      <th></th>\n",
       "      <th>lake_id</th>\n",
       "      <th>Lake</th>\n",
       "      <th>Canton</th>\n",
       "      <th>Elevation in m</th>\n",
       "      <th>Area in ha</th>\n",
       "      <th>is_lake_link</th>\n",
       "      <th>link</th>\n",
       "      <th>latlng</th>\n",
       "      <th>with_geojson</th>\n",
       "    </tr>\n",
       "  </thead>\n",
       "  <tbody>\n",
       "    <tr>\n",
       "      <th>0</th>\n",
       "      <td>1</td>\n",
       "      <td>Theodulgletschersee</td>\n",
       "      <td>Valais</td>\n",
       "      <td>2851</td>\n",
       "      <td>7.76</td>\n",
       "      <td>False</td>\n",
       "      <td>https://en.wikipedia.org///wiki/Theodulgletsch...</td>\n",
       "      <td>[45.971600, 7.715315]</td>\n",
       "      <td>True</td>\n",
       "    </tr>\n",
       "    <tr>\n",
       "      <th>1</th>\n",
       "      <td>2</td>\n",
       "      <td>Lai d'Immez</td>\n",
       "      <td>Graubünden</td>\n",
       "      <td>2832</td>\n",
       "      <td>4.53</td>\n",
       "      <td>False</td>\n",
       "      <td>NaN</td>\n",
       "      <td>[46.7277984, 10.1338334]</td>\n",
       "      <td>True</td>\n",
       "    </tr>\n",
       "    <tr>\n",
       "      <th>2</th>\n",
       "      <td>3</td>\n",
       "      <td>Lej da Prüna</td>\n",
       "      <td>Graubünden</td>\n",
       "      <td>2815</td>\n",
       "      <td>4.03</td>\n",
       "      <td>False</td>\n",
       "      <td>NaN</td>\n",
       "      <td>[46.477777, 9.973627]</td>\n",
       "      <td>True</td>\n",
       "    </tr>\n",
       "    <tr>\n",
       "      <th>3</th>\n",
       "      <td>4</td>\n",
       "      <td>Lej da Pischa</td>\n",
       "      <td>Graubünden</td>\n",
       "      <td>2770</td>\n",
       "      <td>5.05</td>\n",
       "      <td>False</td>\n",
       "      <td>NaN</td>\n",
       "      <td>[46.47142909999999, 9.9790387]</td>\n",
       "      <td>True</td>\n",
       "    </tr>\n",
       "    <tr>\n",
       "      <th>4</th>\n",
       "      <td>5</td>\n",
       "      <td>Chaltwassersee</td>\n",
       "      <td>Valais</td>\n",
       "      <td>2756</td>\n",
       "      <td>4.41</td>\n",
       "      <td>False</td>\n",
       "      <td>NaN</td>\n",
       "      <td>[46.25839999999999, 8.078289999999999]</td>\n",
       "      <td>False</td>\n",
       "    </tr>\n",
       "  </tbody>\n",
       "</table>\n",
       "</div>"
      ],
      "text/plain": [
       "   lake_id                 Lake      Canton  Elevation in m  Area in ha  \\\n",
       "0        1  Theodulgletschersee      Valais            2851        7.76   \n",
       "1        2          Lai d'Immez  Graubünden            2832        4.53   \n",
       "2        3         Lej da Prüna  Graubünden            2815        4.03   \n",
       "3        4        Lej da Pischa  Graubünden            2770        5.05   \n",
       "4        5       Chaltwassersee      Valais            2756        4.41   \n",
       "\n",
       "   is_lake_link                                               link  \\\n",
       "0         False  https://en.wikipedia.org///wiki/Theodulgletsch...   \n",
       "1         False                                                NaN   \n",
       "2         False                                                NaN   \n",
       "3         False                                                NaN   \n",
       "4         False                                                NaN   \n",
       "\n",
       "                                   latlng  with_geojson  \n",
       "0                   [45.971600, 7.715315]          True  \n",
       "1                [46.7277984, 10.1338334]          True  \n",
       "2                   [46.477777, 9.973627]          True  \n",
       "3          [46.47142909999999, 9.9790387]          True  \n",
       "4  [46.25839999999999, 8.078289999999999]         False  "
      ]
     },
     "execution_count": 53,
     "metadata": {},
     "output_type": "execute_result"
    }
   ],
   "source": [
    "df = pd.read_csv(\"WikiLakesCorrectCoord.csv\")\n",
    "df = df.drop(['Basin highest point', 'Basin highest elevation in m', 'River basin'], axis=1)\n",
    "df.head()"
   ]
  },
  {
   "cell_type": "code",
   "execution_count": 54,
   "id": "806641cf",
   "metadata": {},
   "outputs": [
    {
     "data": {
      "text/html": [
       "<div>\n",
       "<style scoped>\n",
       "    .dataframe tbody tr th:only-of-type {\n",
       "        vertical-align: middle;\n",
       "    }\n",
       "\n",
       "    .dataframe tbody tr th {\n",
       "        vertical-align: top;\n",
       "    }\n",
       "\n",
       "    .dataframe thead th {\n",
       "        text-align: right;\n",
       "    }\n",
       "</style>\n",
       "<table border=\"1\" class=\"dataframe\">\n",
       "  <thead>\n",
       "    <tr style=\"text-align: right;\">\n",
       "      <th></th>\n",
       "      <th>lake_id</th>\n",
       "      <th>description</th>\n",
       "      <th>lake_type</th>\n",
       "      <th>max_length</th>\n",
       "      <th>max_width</th>\n",
       "      <th>max_depth</th>\n",
       "      <th>water_volume</th>\n",
       "    </tr>\n",
       "  </thead>\n",
       "  <tbody>\n",
       "    <tr>\n",
       "      <th>0</th>\n",
       "      <td>10</td>\n",
       "      <td>Lac du Grand Désert is a lake in the canton of...</td>\n",
       "      <td>Glacial lake</td>\n",
       "      <td>NaN</td>\n",
       "      <td>NaN</td>\n",
       "      <td>NaN</td>\n",
       "      <td>NaN</td>\n",
       "    </tr>\n",
       "    <tr>\n",
       "      <th>1</th>\n",
       "      <td>11</td>\n",
       "      <td>Lac de Lona is a lake at an elevation of 2640 ...</td>\n",
       "      <td>NaN</td>\n",
       "      <td>NaN</td>\n",
       "      <td>NaN</td>\n",
       "      <td>NaN</td>\n",
       "      <td>NaN</td>\n",
       "    </tr>\n",
       "    <tr>\n",
       "      <th>2</th>\n",
       "      <td>14</td>\n",
       "      <td>Lej da la Tscheppa is a lake above Sils Maria,...</td>\n",
       "      <td>NaN</td>\n",
       "      <td>NaN</td>\n",
       "      <td>NaN</td>\n",
       "      <td>32 m (105 ft)</td>\n",
       "      <td>NaN</td>\n",
       "    </tr>\n",
       "    <tr>\n",
       "      <th>3</th>\n",
       "      <td>17</td>\n",
       "      <td>Distelsee is a high alpine lake in the canton ...</td>\n",
       "      <td>natural freshwater lake</td>\n",
       "      <td>320 metres (1,050 ft)</td>\n",
       "      <td>265 metres (869 ft)</td>\n",
       "      <td>NaN</td>\n",
       "      <td>NaN</td>\n",
       "    </tr>\n",
       "    <tr>\n",
       "      <th>4</th>\n",
       "      <td>19</td>\n",
       "      <td>Trützisee is a lake above Geschinen in the Can...</td>\n",
       "      <td>NaN</td>\n",
       "      <td>NaN</td>\n",
       "      <td>NaN</td>\n",
       "      <td>NaN</td>\n",
       "      <td>NaN</td>\n",
       "    </tr>\n",
       "  </tbody>\n",
       "</table>\n",
       "</div>"
      ],
      "text/plain": [
       "   lake_id                                        description  \\\n",
       "0       10  Lac du Grand Désert is a lake in the canton of...   \n",
       "1       11  Lac de Lona is a lake at an elevation of 2640 ...   \n",
       "2       14  Lej da la Tscheppa is a lake above Sils Maria,...   \n",
       "3       17  Distelsee is a high alpine lake in the canton ...   \n",
       "4       19  Trützisee is a lake above Geschinen in the Can...   \n",
       "\n",
       "                 lake_type             max_length            max_width  \\\n",
       "0             Glacial lake                    NaN                  NaN   \n",
       "1                      NaN                    NaN                  NaN   \n",
       "2                      NaN                    NaN                  NaN   \n",
       "3  natural freshwater lake  320 metres (1,050 ft)  265 metres (869 ft)   \n",
       "4                      NaN                    NaN                  NaN   \n",
       "\n",
       "       max_depth water_volume  \n",
       "0            NaN          NaN  \n",
       "1            NaN          NaN  \n",
       "2  32 m (105 ft)          NaN  \n",
       "3            NaN          NaN  \n",
       "4            NaN          NaN  "
      ]
     },
     "execution_count": 54,
     "metadata": {},
     "output_type": "execute_result"
    }
   ],
   "source": [
    "df2 = pd.read_csv(\"from_lake_entry.csv\")\n",
    "df2 = df2.drop(['lake_img','coordinates','if_external_link'], axis=1)\n",
    "df2.head()"
   ]
  },
  {
   "cell_type": "code",
   "execution_count": 55,
   "id": "8531bbcb",
   "metadata": {},
   "outputs": [
    {
     "data": {
      "text/html": [
       "<div>\n",
       "<style scoped>\n",
       "    .dataframe tbody tr th:only-of-type {\n",
       "        vertical-align: middle;\n",
       "    }\n",
       "\n",
       "    .dataframe tbody tr th {\n",
       "        vertical-align: top;\n",
       "    }\n",
       "\n",
       "    .dataframe thead th {\n",
       "        text-align: right;\n",
       "    }\n",
       "</style>\n",
       "<table border=\"1\" class=\"dataframe\">\n",
       "  <thead>\n",
       "    <tr style=\"text-align: right;\">\n",
       "      <th></th>\n",
       "      <th>lake_id</th>\n",
       "      <th>Lake</th>\n",
       "      <th>Canton</th>\n",
       "      <th>Elevation in m</th>\n",
       "      <th>Area in ha</th>\n",
       "      <th>is_lake_link</th>\n",
       "      <th>link</th>\n",
       "      <th>latlng</th>\n",
       "      <th>with_geojson</th>\n",
       "      <th>description</th>\n",
       "      <th>lake_type</th>\n",
       "      <th>max_length</th>\n",
       "      <th>max_width</th>\n",
       "      <th>max_depth</th>\n",
       "      <th>water_volume</th>\n",
       "    </tr>\n",
       "  </thead>\n",
       "  <tbody>\n",
       "    <tr>\n",
       "      <th>0</th>\n",
       "      <td>1</td>\n",
       "      <td>Theodulgletschersee</td>\n",
       "      <td>Valais</td>\n",
       "      <td>2851</td>\n",
       "      <td>7.76</td>\n",
       "      <td>False</td>\n",
       "      <td>https://en.wikipedia.org///wiki/Theodulgletsch...</td>\n",
       "      <td>[45.971600, 7.715315]</td>\n",
       "      <td>True</td>\n",
       "      <td>NaN</td>\n",
       "      <td>NaN</td>\n",
       "      <td>NaN</td>\n",
       "      <td>NaN</td>\n",
       "      <td>NaN</td>\n",
       "      <td>NaN</td>\n",
       "    </tr>\n",
       "    <tr>\n",
       "      <th>1</th>\n",
       "      <td>2</td>\n",
       "      <td>Lai d'Immez</td>\n",
       "      <td>Graubünden</td>\n",
       "      <td>2832</td>\n",
       "      <td>4.53</td>\n",
       "      <td>False</td>\n",
       "      <td>NaN</td>\n",
       "      <td>[46.7277984, 10.1338334]</td>\n",
       "      <td>True</td>\n",
       "      <td>NaN</td>\n",
       "      <td>NaN</td>\n",
       "      <td>NaN</td>\n",
       "      <td>NaN</td>\n",
       "      <td>NaN</td>\n",
       "      <td>NaN</td>\n",
       "    </tr>\n",
       "    <tr>\n",
       "      <th>2</th>\n",
       "      <td>3</td>\n",
       "      <td>Lej da Prüna</td>\n",
       "      <td>Graubünden</td>\n",
       "      <td>2815</td>\n",
       "      <td>4.03</td>\n",
       "      <td>False</td>\n",
       "      <td>NaN</td>\n",
       "      <td>[46.477777, 9.973627]</td>\n",
       "      <td>True</td>\n",
       "      <td>NaN</td>\n",
       "      <td>NaN</td>\n",
       "      <td>NaN</td>\n",
       "      <td>NaN</td>\n",
       "      <td>NaN</td>\n",
       "      <td>NaN</td>\n",
       "    </tr>\n",
       "    <tr>\n",
       "      <th>3</th>\n",
       "      <td>4</td>\n",
       "      <td>Lej da Pischa</td>\n",
       "      <td>Graubünden</td>\n",
       "      <td>2770</td>\n",
       "      <td>5.05</td>\n",
       "      <td>False</td>\n",
       "      <td>NaN</td>\n",
       "      <td>[46.47142909999999, 9.9790387]</td>\n",
       "      <td>True</td>\n",
       "      <td>NaN</td>\n",
       "      <td>NaN</td>\n",
       "      <td>NaN</td>\n",
       "      <td>NaN</td>\n",
       "      <td>NaN</td>\n",
       "      <td>NaN</td>\n",
       "    </tr>\n",
       "    <tr>\n",
       "      <th>4</th>\n",
       "      <td>5</td>\n",
       "      <td>Chaltwassersee</td>\n",
       "      <td>Valais</td>\n",
       "      <td>2756</td>\n",
       "      <td>4.41</td>\n",
       "      <td>False</td>\n",
       "      <td>NaN</td>\n",
       "      <td>[46.25839999999999, 8.078289999999999]</td>\n",
       "      <td>False</td>\n",
       "      <td>NaN</td>\n",
       "      <td>NaN</td>\n",
       "      <td>NaN</td>\n",
       "      <td>NaN</td>\n",
       "      <td>NaN</td>\n",
       "      <td>NaN</td>\n",
       "    </tr>\n",
       "  </tbody>\n",
       "</table>\n",
       "</div>"
      ],
      "text/plain": [
       "   lake_id                 Lake      Canton  Elevation in m  Area in ha  \\\n",
       "0        1  Theodulgletschersee      Valais            2851        7.76   \n",
       "1        2          Lai d'Immez  Graubünden            2832        4.53   \n",
       "2        3         Lej da Prüna  Graubünden            2815        4.03   \n",
       "3        4        Lej da Pischa  Graubünden            2770        5.05   \n",
       "4        5       Chaltwassersee      Valais            2756        4.41   \n",
       "\n",
       "   is_lake_link                                               link  \\\n",
       "0         False  https://en.wikipedia.org///wiki/Theodulgletsch...   \n",
       "1         False                                                NaN   \n",
       "2         False                                                NaN   \n",
       "3         False                                                NaN   \n",
       "4         False                                                NaN   \n",
       "\n",
       "                                   latlng  with_geojson description lake_type  \\\n",
       "0                   [45.971600, 7.715315]          True         NaN       NaN   \n",
       "1                [46.7277984, 10.1338334]          True         NaN       NaN   \n",
       "2                   [46.477777, 9.973627]          True         NaN       NaN   \n",
       "3          [46.47142909999999, 9.9790387]          True         NaN       NaN   \n",
       "4  [46.25839999999999, 8.078289999999999]         False         NaN       NaN   \n",
       "\n",
       "  max_length max_width max_depth water_volume  \n",
       "0        NaN       NaN       NaN          NaN  \n",
       "1        NaN       NaN       NaN          NaN  \n",
       "2        NaN       NaN       NaN          NaN  \n",
       "3        NaN       NaN       NaN          NaN  \n",
       "4        NaN       NaN       NaN          NaN  "
      ]
     },
     "execution_count": 55,
     "metadata": {},
     "output_type": "execute_result"
    }
   ],
   "source": [
    "con = df.join(df2.set_index('lake_id'), on='lake_id')\n",
    "con.head()"
   ]
  },
  {
   "cell_type": "code",
   "execution_count": 56,
   "id": "f9fe36a2",
   "metadata": {},
   "outputs": [
    {
     "data": {
      "text/html": [
       "<div>\n",
       "<style scoped>\n",
       "    .dataframe tbody tr th:only-of-type {\n",
       "        vertical-align: middle;\n",
       "    }\n",
       "\n",
       "    .dataframe tbody tr th {\n",
       "        vertical-align: top;\n",
       "    }\n",
       "\n",
       "    .dataframe thead th {\n",
       "        text-align: right;\n",
       "    }\n",
       "</style>\n",
       "<table border=\"1\" class=\"dataframe\">\n",
       "  <thead>\n",
       "    <tr style=\"text-align: right;\">\n",
       "      <th></th>\n",
       "      <th>lake_id</th>\n",
       "      <th>Lake</th>\n",
       "      <th>Region</th>\n",
       "      <th>Date</th>\n",
       "      <th>Altitude (m)</th>\n",
       "      <th>pH</th>\n",
       "      <th>Conductivity (uS/cm)</th>\n",
       "      <th>Temperature (°C)</th>\n",
       "      <th>O2 (mg/l)</th>\n",
       "    </tr>\n",
       "  </thead>\n",
       "  <tbody>\n",
       "    <tr>\n",
       "      <th>0</th>\n",
       "      <td>218</td>\n",
       "      <td>Stellisee</td>\n",
       "      <td>Zermatt</td>\n",
       "      <td>02.09.21</td>\n",
       "      <td>2538</td>\n",
       "      <td>8,65</td>\n",
       "      <td>316</td>\n",
       "      <td>13,3</td>\n",
       "      <td>9,53</td>\n",
       "    </tr>\n",
       "    <tr>\n",
       "      <th>1</th>\n",
       "      <td>219</td>\n",
       "      <td>Grindjesee</td>\n",
       "      <td>Zermatt</td>\n",
       "      <td>03.09.21</td>\n",
       "      <td>2334</td>\n",
       "      <td>8,18</td>\n",
       "      <td>265</td>\n",
       "      <td>12,8</td>\n",
       "      <td>8,65</td>\n",
       "    </tr>\n",
       "    <tr>\n",
       "      <th>2</th>\n",
       "      <td>220</td>\n",
       "      <td>Grünsee</td>\n",
       "      <td>Zermatt</td>\n",
       "      <td>04.09.21</td>\n",
       "      <td>2303</td>\n",
       "      <td>8,93</td>\n",
       "      <td>315</td>\n",
       "      <td>17,1</td>\n",
       "      <td>8,53</td>\n",
       "    </tr>\n",
       "    <tr>\n",
       "      <th>3</th>\n",
       "      <td>221</td>\n",
       "      <td>Mossjesee</td>\n",
       "      <td>Zermatt</td>\n",
       "      <td>05.09.21</td>\n",
       "      <td>2139</td>\n",
       "      <td>8,08</td>\n",
       "      <td>295</td>\n",
       "      <td>13</td>\n",
       "      <td>8,81</td>\n",
       "    </tr>\n",
       "    <tr>\n",
       "      <th>4</th>\n",
       "      <td>222</td>\n",
       "      <td>Leisee</td>\n",
       "      <td>Zermatt</td>\n",
       "      <td>06.09.21</td>\n",
       "      <td>2232</td>\n",
       "      <td>9,25</td>\n",
       "      <td>250</td>\n",
       "      <td>18,5</td>\n",
       "      <td>8,88</td>\n",
       "    </tr>\n",
       "  </tbody>\n",
       "</table>\n",
       "</div>"
      ],
      "text/plain": [
       "   lake_id        Lake   Region      Date  Altitude (m)    pH  \\\n",
       "0      218   Stellisee  Zermatt  02.09.21          2538  8,65   \n",
       "1      219  Grindjesee  Zermatt  03.09.21          2334  8,18   \n",
       "2      220     Grünsee  Zermatt  04.09.21          2303  8,93   \n",
       "3      221   Mossjesee  Zermatt  05.09.21          2139  8,08   \n",
       "4      222      Leisee  Zermatt  06.09.21          2232  9,25   \n",
       "\n",
       "  Conductivity (uS/cm) Temperature (°C) O2 (mg/l)  \n",
       "0                  316             13,3      9,53  \n",
       "1                  265             12,8      8,65  \n",
       "2                  315             17,1      8,53  \n",
       "3                  295               13      8,81  \n",
       "4                  250             18,5      8,88  "
      ]
     },
     "execution_count": 56,
     "metadata": {},
     "output_type": "execute_result"
    }
   ],
   "source": [
    "df3 = pd.read_csv(\"sampled_lakes.csv\")\n",
    "df3 = df3.drop(['Sample acronym', 'Filtered for extraction (L)', 'Comments', 'Filtration', 'Extraction', \n",
    "                'Inactivation', 'Ratio 18/16', 'g23 (gc/l)',\n",
    "                'Sample taken for Jasmine', 'New extraction', 'Volume filtré new extraction ml', \n",
    "                'Acid nucleic concentration ng/ul', 'NA contained', 'How many could be used for 18S again'], axis=1)\n",
    "#df3.lake_id = df3.lake_id.astype(int)\n",
    "df3.head()"
   ]
  },
  {
   "cell_type": "code",
   "execution_count": 57,
   "id": "574be1eb",
   "metadata": {},
   "outputs": [],
   "source": [
    "con = con.merge(df3, how='outer', left_on=['lake_id','Lake'], right_on=['lake_id','Lake'])"
   ]
  },
  {
   "cell_type": "code",
   "execution_count": 58,
   "id": "65c82fd6",
   "metadata": {},
   "outputs": [
    {
     "data": {
      "text/html": [
       "<div>\n",
       "<style scoped>\n",
       "    .dataframe tbody tr th:only-of-type {\n",
       "        vertical-align: middle;\n",
       "    }\n",
       "\n",
       "    .dataframe tbody tr th {\n",
       "        vertical-align: top;\n",
       "    }\n",
       "\n",
       "    .dataframe thead th {\n",
       "        text-align: right;\n",
       "    }\n",
       "</style>\n",
       "<table border=\"1\" class=\"dataframe\">\n",
       "  <thead>\n",
       "    <tr style=\"text-align: right;\">\n",
       "      <th></th>\n",
       "      <th>lake_id</th>\n",
       "      <th>Lake</th>\n",
       "      <th>Canton</th>\n",
       "      <th>Elevation in m</th>\n",
       "      <th>Area in ha</th>\n",
       "      <th>is_lake_link</th>\n",
       "      <th>link</th>\n",
       "      <th>latlng</th>\n",
       "      <th>with_geojson</th>\n",
       "      <th>description</th>\n",
       "      <th>...</th>\n",
       "      <th>max_width</th>\n",
       "      <th>max_depth</th>\n",
       "      <th>water_volume</th>\n",
       "      <th>Region</th>\n",
       "      <th>Date</th>\n",
       "      <th>Altitude (m)</th>\n",
       "      <th>pH</th>\n",
       "      <th>Conductivity (uS/cm)</th>\n",
       "      <th>Temperature (°C)</th>\n",
       "      <th>O2 (mg/l)</th>\n",
       "    </tr>\n",
       "  </thead>\n",
       "  <tbody>\n",
       "    <tr>\n",
       "      <th>0</th>\n",
       "      <td>1</td>\n",
       "      <td>Theodulgletschersee</td>\n",
       "      <td>Valais</td>\n",
       "      <td>2851.0</td>\n",
       "      <td>7.76</td>\n",
       "      <td>False</td>\n",
       "      <td>https://en.wikipedia.org///wiki/Theodulgletsch...</td>\n",
       "      <td>[45.971600, 7.715315]</td>\n",
       "      <td>True</td>\n",
       "      <td>NaN</td>\n",
       "      <td>...</td>\n",
       "      <td>NaN</td>\n",
       "      <td>NaN</td>\n",
       "      <td>NaN</td>\n",
       "      <td>NaN</td>\n",
       "      <td>NaN</td>\n",
       "      <td>NaN</td>\n",
       "      <td>NaN</td>\n",
       "      <td>NaN</td>\n",
       "      <td>NaN</td>\n",
       "      <td>NaN</td>\n",
       "    </tr>\n",
       "    <tr>\n",
       "      <th>1</th>\n",
       "      <td>2</td>\n",
       "      <td>Lai d'Immez</td>\n",
       "      <td>Graubünden</td>\n",
       "      <td>2832.0</td>\n",
       "      <td>4.53</td>\n",
       "      <td>False</td>\n",
       "      <td>NaN</td>\n",
       "      <td>[46.7277984, 10.1338334]</td>\n",
       "      <td>True</td>\n",
       "      <td>NaN</td>\n",
       "      <td>...</td>\n",
       "      <td>NaN</td>\n",
       "      <td>NaN</td>\n",
       "      <td>NaN</td>\n",
       "      <td>NaN</td>\n",
       "      <td>NaN</td>\n",
       "      <td>NaN</td>\n",
       "      <td>NaN</td>\n",
       "      <td>NaN</td>\n",
       "      <td>NaN</td>\n",
       "      <td>NaN</td>\n",
       "    </tr>\n",
       "    <tr>\n",
       "      <th>2</th>\n",
       "      <td>3</td>\n",
       "      <td>Lej da Prüna</td>\n",
       "      <td>Graubünden</td>\n",
       "      <td>2815.0</td>\n",
       "      <td>4.03</td>\n",
       "      <td>False</td>\n",
       "      <td>NaN</td>\n",
       "      <td>[46.477777, 9.973627]</td>\n",
       "      <td>True</td>\n",
       "      <td>NaN</td>\n",
       "      <td>...</td>\n",
       "      <td>NaN</td>\n",
       "      <td>NaN</td>\n",
       "      <td>NaN</td>\n",
       "      <td>NaN</td>\n",
       "      <td>NaN</td>\n",
       "      <td>NaN</td>\n",
       "      <td>NaN</td>\n",
       "      <td>NaN</td>\n",
       "      <td>NaN</td>\n",
       "      <td>NaN</td>\n",
       "    </tr>\n",
       "    <tr>\n",
       "      <th>3</th>\n",
       "      <td>4</td>\n",
       "      <td>Lej da Pischa</td>\n",
       "      <td>Graubünden</td>\n",
       "      <td>2770.0</td>\n",
       "      <td>5.05</td>\n",
       "      <td>False</td>\n",
       "      <td>NaN</td>\n",
       "      <td>[46.47142909999999, 9.9790387]</td>\n",
       "      <td>True</td>\n",
       "      <td>NaN</td>\n",
       "      <td>...</td>\n",
       "      <td>NaN</td>\n",
       "      <td>NaN</td>\n",
       "      <td>NaN</td>\n",
       "      <td>NaN</td>\n",
       "      <td>NaN</td>\n",
       "      <td>NaN</td>\n",
       "      <td>NaN</td>\n",
       "      <td>NaN</td>\n",
       "      <td>NaN</td>\n",
       "      <td>NaN</td>\n",
       "    </tr>\n",
       "    <tr>\n",
       "      <th>4</th>\n",
       "      <td>5</td>\n",
       "      <td>Chaltwassersee</td>\n",
       "      <td>Valais</td>\n",
       "      <td>2756.0</td>\n",
       "      <td>4.41</td>\n",
       "      <td>False</td>\n",
       "      <td>NaN</td>\n",
       "      <td>[46.25839999999999, 8.078289999999999]</td>\n",
       "      <td>False</td>\n",
       "      <td>NaN</td>\n",
       "      <td>...</td>\n",
       "      <td>NaN</td>\n",
       "      <td>NaN</td>\n",
       "      <td>NaN</td>\n",
       "      <td>NaN</td>\n",
       "      <td>NaN</td>\n",
       "      <td>NaN</td>\n",
       "      <td>NaN</td>\n",
       "      <td>NaN</td>\n",
       "      <td>NaN</td>\n",
       "      <td>NaN</td>\n",
       "    </tr>\n",
       "    <tr>\n",
       "      <th>...</th>\n",
       "      <td>...</td>\n",
       "      <td>...</td>\n",
       "      <td>...</td>\n",
       "      <td>...</td>\n",
       "      <td>...</td>\n",
       "      <td>...</td>\n",
       "      <td>...</td>\n",
       "      <td>...</td>\n",
       "      <td>...</td>\n",
       "      <td>...</td>\n",
       "      <td>...</td>\n",
       "      <td>...</td>\n",
       "      <td>...</td>\n",
       "      <td>...</td>\n",
       "      <td>...</td>\n",
       "      <td>...</td>\n",
       "      <td>...</td>\n",
       "      <td>...</td>\n",
       "      <td>...</td>\n",
       "      <td>...</td>\n",
       "      <td>...</td>\n",
       "    </tr>\n",
       "    <tr>\n",
       "      <th>232</th>\n",
       "      <td>234</td>\n",
       "      <td>Petit Aletsch 1 (PA1)</td>\n",
       "      <td>NaN</td>\n",
       "      <td>NaN</td>\n",
       "      <td>NaN</td>\n",
       "      <td>NaN</td>\n",
       "      <td>NaN</td>\n",
       "      <td>NaN</td>\n",
       "      <td>NaN</td>\n",
       "      <td>NaN</td>\n",
       "      <td>...</td>\n",
       "      <td>NaN</td>\n",
       "      <td>NaN</td>\n",
       "      <td>NaN</td>\n",
       "      <td>Aletsch</td>\n",
       "      <td>16.10.21</td>\n",
       "      <td>2350.0</td>\n",
       "      <td>7,67</td>\n",
       "      <td>64,3</td>\n",
       "      <td>6,8</td>\n",
       "      <td>9,99</td>\n",
       "    </tr>\n",
       "    <tr>\n",
       "      <th>233</th>\n",
       "      <td>235</td>\n",
       "      <td>Petit Aletsch 2 (PA2)</td>\n",
       "      <td>NaN</td>\n",
       "      <td>NaN</td>\n",
       "      <td>NaN</td>\n",
       "      <td>NaN</td>\n",
       "      <td>NaN</td>\n",
       "      <td>NaN</td>\n",
       "      <td>NaN</td>\n",
       "      <td>NaN</td>\n",
       "      <td>...</td>\n",
       "      <td>NaN</td>\n",
       "      <td>NaN</td>\n",
       "      <td>NaN</td>\n",
       "      <td>Aletsch</td>\n",
       "      <td>17.10.21</td>\n",
       "      <td>2350.0</td>\n",
       "      <td>7,67</td>\n",
       "      <td>12,8</td>\n",
       "      <td>6,3</td>\n",
       "      <td>10,43</td>\n",
       "    </tr>\n",
       "    <tr>\n",
       "      <th>234</th>\n",
       "      <td>236</td>\n",
       "      <td>Petit Aletsch 3 (PA3)</td>\n",
       "      <td>NaN</td>\n",
       "      <td>NaN</td>\n",
       "      <td>NaN</td>\n",
       "      <td>NaN</td>\n",
       "      <td>NaN</td>\n",
       "      <td>NaN</td>\n",
       "      <td>NaN</td>\n",
       "      <td>NaN</td>\n",
       "      <td>...</td>\n",
       "      <td>NaN</td>\n",
       "      <td>NaN</td>\n",
       "      <td>NaN</td>\n",
       "      <td>Aletsch</td>\n",
       "      <td>18.10.21</td>\n",
       "      <td>2335.0</td>\n",
       "      <td>8,21</td>\n",
       "      <td>60,4</td>\n",
       "      <td>4,9</td>\n",
       "      <td>11,07</td>\n",
       "    </tr>\n",
       "    <tr>\n",
       "      <th>235</th>\n",
       "      <td>237</td>\n",
       "      <td>Marjelensee</td>\n",
       "      <td>NaN</td>\n",
       "      <td>NaN</td>\n",
       "      <td>NaN</td>\n",
       "      <td>NaN</td>\n",
       "      <td>NaN</td>\n",
       "      <td>NaN</td>\n",
       "      <td>NaN</td>\n",
       "      <td>NaN</td>\n",
       "      <td>...</td>\n",
       "      <td>NaN</td>\n",
       "      <td>NaN</td>\n",
       "      <td>NaN</td>\n",
       "      <td>Aletsch</td>\n",
       "      <td>19.10.21</td>\n",
       "      <td>2302.0</td>\n",
       "      <td>8,14</td>\n",
       "      <td>57,3</td>\n",
       "      <td>4,4</td>\n",
       "      <td>10,35</td>\n",
       "    </tr>\n",
       "    <tr>\n",
       "      <th>236</th>\n",
       "      <td>227</td>\n",
       "      <td>Lac Bleu</td>\n",
       "      <td>NaN</td>\n",
       "      <td>NaN</td>\n",
       "      <td>NaN</td>\n",
       "      <td>NaN</td>\n",
       "      <td>NaN</td>\n",
       "      <td>NaN</td>\n",
       "      <td>NaN</td>\n",
       "      <td>NaN</td>\n",
       "      <td>...</td>\n",
       "      <td>NaN</td>\n",
       "      <td>NaN</td>\n",
       "      <td>NaN</td>\n",
       "      <td>Arolla</td>\n",
       "      <td>25.10.21</td>\n",
       "      <td>2090.0</td>\n",
       "      <td>8,18</td>\n",
       "      <td>256</td>\n",
       "      <td>3,7</td>\n",
       "      <td>10,98</td>\n",
       "    </tr>\n",
       "  </tbody>\n",
       "</table>\n",
       "<p>237 rows × 22 columns</p>\n",
       "</div>"
      ],
      "text/plain": [
       "     lake_id                   Lake      Canton  Elevation in m  Area in ha  \\\n",
       "0          1    Theodulgletschersee      Valais          2851.0        7.76   \n",
       "1          2            Lai d'Immez  Graubünden          2832.0        4.53   \n",
       "2          3           Lej da Prüna  Graubünden          2815.0        4.03   \n",
       "3          4          Lej da Pischa  Graubünden          2770.0        5.05   \n",
       "4          5         Chaltwassersee      Valais          2756.0        4.41   \n",
       "..       ...                    ...         ...             ...         ...   \n",
       "232      234  Petit Aletsch 1 (PA1)         NaN             NaN         NaN   \n",
       "233      235  Petit Aletsch 2 (PA2)         NaN             NaN         NaN   \n",
       "234      236  Petit Aletsch 3 (PA3)         NaN             NaN         NaN   \n",
       "235      237            Marjelensee         NaN             NaN         NaN   \n",
       "236      227               Lac Bleu         NaN             NaN         NaN   \n",
       "\n",
       "    is_lake_link                                               link  \\\n",
       "0          False  https://en.wikipedia.org///wiki/Theodulgletsch...   \n",
       "1          False                                                NaN   \n",
       "2          False                                                NaN   \n",
       "3          False                                                NaN   \n",
       "4          False                                                NaN   \n",
       "..           ...                                                ...   \n",
       "232          NaN                                                NaN   \n",
       "233          NaN                                                NaN   \n",
       "234          NaN                                                NaN   \n",
       "235          NaN                                                NaN   \n",
       "236          NaN                                                NaN   \n",
       "\n",
       "                                     latlng with_geojson description  ...  \\\n",
       "0                     [45.971600, 7.715315]         True         NaN  ...   \n",
       "1                  [46.7277984, 10.1338334]         True         NaN  ...   \n",
       "2                     [46.477777, 9.973627]         True         NaN  ...   \n",
       "3            [46.47142909999999, 9.9790387]         True         NaN  ...   \n",
       "4    [46.25839999999999, 8.078289999999999]        False         NaN  ...   \n",
       "..                                      ...          ...         ...  ...   \n",
       "232                                     NaN          NaN         NaN  ...   \n",
       "233                                     NaN          NaN         NaN  ...   \n",
       "234                                     NaN          NaN         NaN  ...   \n",
       "235                                     NaN          NaN         NaN  ...   \n",
       "236                                     NaN          NaN         NaN  ...   \n",
       "\n",
       "    max_width max_depth water_volume   Region      Date Altitude (m)    pH  \\\n",
       "0         NaN       NaN          NaN      NaN       NaN          NaN   NaN   \n",
       "1         NaN       NaN          NaN      NaN       NaN          NaN   NaN   \n",
       "2         NaN       NaN          NaN      NaN       NaN          NaN   NaN   \n",
       "3         NaN       NaN          NaN      NaN       NaN          NaN   NaN   \n",
       "4         NaN       NaN          NaN      NaN       NaN          NaN   NaN   \n",
       "..        ...       ...          ...      ...       ...          ...   ...   \n",
       "232       NaN       NaN          NaN  Aletsch  16.10.21       2350.0  7,67   \n",
       "233       NaN       NaN          NaN  Aletsch  17.10.21       2350.0  7,67   \n",
       "234       NaN       NaN          NaN  Aletsch  18.10.21       2335.0  8,21   \n",
       "235       NaN       NaN          NaN  Aletsch  19.10.21       2302.0  8,14   \n",
       "236       NaN       NaN          NaN   Arolla  25.10.21       2090.0  8,18   \n",
       "\n",
       "     Conductivity (uS/cm) Temperature (°C) O2 (mg/l)  \n",
       "0                     NaN              NaN       NaN  \n",
       "1                     NaN              NaN       NaN  \n",
       "2                     NaN              NaN       NaN  \n",
       "3                     NaN              NaN       NaN  \n",
       "4                     NaN              NaN       NaN  \n",
       "..                    ...              ...       ...  \n",
       "232                  64,3              6,8      9,99  \n",
       "233                  12,8              6,3     10,43  \n",
       "234                  60,4              4,9     11,07  \n",
       "235                  57,3              4,4     10,35  \n",
       "236                   256              3,7     10,98  \n",
       "\n",
       "[237 rows x 22 columns]"
      ]
     },
     "execution_count": 58,
     "metadata": {},
     "output_type": "execute_result"
    }
   ],
   "source": [
    "con"
   ]
  },
  {
   "cell_type": "code",
   "execution_count": 84,
   "id": "b051e79e",
   "metadata": {},
   "outputs": [],
   "source": [
    "con.to_csv('data.csv',index=False)"
   ]
  },
  {
   "cell_type": "code",
   "execution_count": 85,
   "id": "f1003d38",
   "metadata": {},
   "outputs": [
    {
     "name": "stdout",
     "output_type": "stream",
     "text": [
      "218\n",
      "[46.01349769999999, 7.8006047]\n",
      "219\n",
      "[46.0115108, 7.7913394]\n",
      "220\n",
      "[46.0056, 7.7857]\n",
      "221\n",
      "[46.39501, 7.10202]\n",
      "222\n",
      "[46.0150833, 7.772596599999999]\n",
      "223\n",
      "[46.159722, 7.283888999999999]\n",
      "224\n",
      "[46.818188, 8.227511999999999]\n",
      "225\n",
      "[46.4445755, 7.8813103]\n",
      "226\n",
      "[46.818188, 8.227511999999999]\n",
      "228\n",
      "[46.4572209, 8.168681099999999]\n",
      "229\n",
      "[46.818188, 8.227511999999999]\n",
      "230\n",
      "[46.818188, 8.227511999999999]\n",
      "231\n",
      "[46.818188, 8.227511999999999]\n",
      "232\n",
      "[46.107933, 7.2719435]\n",
      "233\n",
      "[46.4415857, 8.106052499999999]\n",
      "234\n",
      "None\n",
      "235\n",
      "None\n",
      "236\n",
      "[46.4887031, 8.0530777]\n",
      "237\n",
      "[46.4408333, 8.0919444]\n",
      "227\n",
      "[46.050484, 7.480085399999999]\n"
     ]
    }
   ],
   "source": [
    "# fill missing cells for extra sampled lakes\n",
    "for i, row in con.iterrows():\n",
    "    if(int(row['lake_id'])>217):\n",
    "        print(row['lake_id'])\n",
    "        con.at[i,'Elevation in m'] = row['Altitude (m)']\n",
    "        con.at[i,'Canton'] = 'Valais'\n",
    "        con.at[i,'is_lake_link'] = False\n",
    "        \n",
    "        name = row['Lake']\n",
    "        this_ll = None\n",
    "        qry = name.replace(' ', '+')\n",
    "        response = requests.get('https://maps.googleapis.com/maps/api/geocode/json?address='+qry+',+Switzerland&key=-')\n",
    "        resp_json_payload = response.json()\n",
    "        if(resp_json_payload['status']=='OK'):\n",
    "            for i in resp_json_payload['results']:\n",
    "                if('geometry' in i):\n",
    "                    if(i['geometry']['location']):\n",
    "                        this_ll = [i['geometry']['location']['lat'],i['geometry']['location']['lng']]\n",
    "                        break\n",
    "        print(this_ll)\n",
    "        #con.loc[i].latlng = str(this_ll)\n",
    "        \n",
    "        "
   ]
  },
  {
   "cell_type": "markdown",
   "id": "cab50571",
   "metadata": {},
   "source": [
    "## Keep target lakes in geojson"
   ]
  },
  {
   "cell_type": "code",
   "execution_count": 131,
   "id": "82cd09c5",
   "metadata": {},
   "outputs": [],
   "source": [
    "saved_geo = []\n",
    "for i in range(len(gj['features'])):\n",
    "    if(gj['features'][i]['properties']['name'] in list(data['Lake'])):\n",
    "        saved_geo.append(gj['features'][i])"
   ]
  },
  {
   "cell_type": "code",
   "execution_count": 132,
   "id": "b6a66b23",
   "metadata": {},
   "outputs": [
    {
     "data": {
      "text/plain": [
       "202"
      ]
     },
     "execution_count": 132,
     "metadata": {},
     "output_type": "execute_result"
    }
   ],
   "source": [
    "len(saved_geo)"
   ]
  },
  {
   "cell_type": "code",
   "execution_count": 133,
   "id": "1727aab7",
   "metadata": {},
   "outputs": [],
   "source": [
    "gj['features'] = saved_geo"
   ]
  },
  {
   "cell_type": "code",
   "execution_count": 134,
   "id": "1fe0eff0",
   "metadata": {},
   "outputs": [],
   "source": [
    "with open('target_lakes.geojson', 'w') as f:   \n",
    "    geojson.dump(gj, f)"
   ]
  },
  {
   "cell_type": "markdown",
   "id": "90b8ae4b",
   "metadata": {},
   "source": [
    "## Lakes per canton"
   ]
  },
  {
   "cell_type": "code",
   "execution_count": 136,
   "id": "7046abd9",
   "metadata": {},
   "outputs": [
    {
     "data": {
      "text/plain": [
       "Canton\n",
       "Appenzell Innerrhoden     3\n",
       "Bern                     22\n",
       "Fribourg                  2\n",
       "Glarus                    7\n",
       "Graubünden               63\n",
       "Graubünden/Ticino         1\n",
       "Jura                      1\n",
       "Neuchâtel                 1\n",
       "Nidwalden                 2\n",
       "Obwalden                  5\n",
       "Schwyz                    4\n",
       "St. Gallen                8\n",
       "Ticino                   33\n",
       "Ticino/Valais             1\n",
       "Uri                       9\n",
       "Valais                   68\n",
       "Vaud                      7\n",
       "dtype: int64"
      ]
     },
     "execution_count": 136,
     "metadata": {},
     "output_type": "execute_result"
    }
   ],
   "source": [
    "con.groupby('Canton').size()"
   ]
  },
  {
   "cell_type": "code",
   "execution_count": null,
   "id": "51ec2bbd",
   "metadata": {},
   "outputs": [],
   "source": []
  },
  {
   "cell_type": "code",
   "execution_count": null,
   "id": "290cb245",
   "metadata": {},
   "outputs": [],
   "source": []
  },
  {
   "cell_type": "markdown",
   "id": "5406c9f8",
   "metadata": {},
   "source": [
    "# Seperate data for each canton for web rendering"
   ]
  },
  {
   "cell_type": "code",
   "execution_count": 39,
   "id": "10204505",
   "metadata": {},
   "outputs": [],
   "source": [
    "all_lakes = pd.read_csv(\"full_data.csv\")"
   ]
  },
  {
   "cell_type": "code",
   "execution_count": 40,
   "id": "85db8c28",
   "metadata": {},
   "outputs": [
    {
     "data": {
      "text/html": [
       "<div>\n",
       "<style scoped>\n",
       "    .dataframe tbody tr th:only-of-type {\n",
       "        vertical-align: middle;\n",
       "    }\n",
       "\n",
       "    .dataframe tbody tr th {\n",
       "        vertical-align: top;\n",
       "    }\n",
       "\n",
       "    .dataframe thead th {\n",
       "        text-align: right;\n",
       "    }\n",
       "</style>\n",
       "<table border=\"1\" class=\"dataframe\">\n",
       "  <thead>\n",
       "    <tr style=\"text-align: right;\">\n",
       "      <th></th>\n",
       "      <th>lake_id</th>\n",
       "      <th>Lake</th>\n",
       "      <th>Canton</th>\n",
       "      <th>Elevation</th>\n",
       "      <th>Area</th>\n",
       "      <th>is_lake_link</th>\n",
       "      <th>link</th>\n",
       "      <th>latlng</th>\n",
       "      <th>with_geojson</th>\n",
       "      <th>description</th>\n",
       "      <th>...</th>\n",
       "      <th>max_width</th>\n",
       "      <th>max_depth</th>\n",
       "      <th>water_volume</th>\n",
       "      <th>Region</th>\n",
       "      <th>Date</th>\n",
       "      <th>Altitude</th>\n",
       "      <th>pH</th>\n",
       "      <th>Conductivity(uS/cm)</th>\n",
       "      <th>Temperature (°C)</th>\n",
       "      <th>O2(mg/l)</th>\n",
       "    </tr>\n",
       "  </thead>\n",
       "  <tbody>\n",
       "    <tr>\n",
       "      <th>0</th>\n",
       "      <td>1</td>\n",
       "      <td>Theodulgletschersee</td>\n",
       "      <td>Valais</td>\n",
       "      <td>2851</td>\n",
       "      <td>7.76</td>\n",
       "      <td>False</td>\n",
       "      <td>https://en.wikipedia.org///wiki/Theodulgletsch...</td>\n",
       "      <td>[45.971600, 7.715315]</td>\n",
       "      <td>True</td>\n",
       "      <td>NaN</td>\n",
       "      <td>...</td>\n",
       "      <td>NaN</td>\n",
       "      <td>NaN</td>\n",
       "      <td>NaN</td>\n",
       "      <td>NaN</td>\n",
       "      <td>NaN</td>\n",
       "      <td>NaN</td>\n",
       "      <td>NaN</td>\n",
       "      <td>NaN</td>\n",
       "      <td>NaN</td>\n",
       "      <td>NaN</td>\n",
       "    </tr>\n",
       "    <tr>\n",
       "      <th>1</th>\n",
       "      <td>2</td>\n",
       "      <td>Lai d'Immez</td>\n",
       "      <td>Graubünden</td>\n",
       "      <td>2832</td>\n",
       "      <td>4.53</td>\n",
       "      <td>False</td>\n",
       "      <td>NaN</td>\n",
       "      <td>[46.7277984, 10.1338334]</td>\n",
       "      <td>True</td>\n",
       "      <td>NaN</td>\n",
       "      <td>...</td>\n",
       "      <td>NaN</td>\n",
       "      <td>NaN</td>\n",
       "      <td>NaN</td>\n",
       "      <td>NaN</td>\n",
       "      <td>NaN</td>\n",
       "      <td>NaN</td>\n",
       "      <td>NaN</td>\n",
       "      <td>NaN</td>\n",
       "      <td>NaN</td>\n",
       "      <td>NaN</td>\n",
       "    </tr>\n",
       "    <tr>\n",
       "      <th>2</th>\n",
       "      <td>3</td>\n",
       "      <td>Lej da Prüna</td>\n",
       "      <td>Graubünden</td>\n",
       "      <td>2815</td>\n",
       "      <td>4.03</td>\n",
       "      <td>False</td>\n",
       "      <td>NaN</td>\n",
       "      <td>[46.477777, 9.973627]</td>\n",
       "      <td>True</td>\n",
       "      <td>NaN</td>\n",
       "      <td>...</td>\n",
       "      <td>NaN</td>\n",
       "      <td>NaN</td>\n",
       "      <td>NaN</td>\n",
       "      <td>NaN</td>\n",
       "      <td>NaN</td>\n",
       "      <td>NaN</td>\n",
       "      <td>NaN</td>\n",
       "      <td>NaN</td>\n",
       "      <td>NaN</td>\n",
       "      <td>NaN</td>\n",
       "    </tr>\n",
       "    <tr>\n",
       "      <th>3</th>\n",
       "      <td>4</td>\n",
       "      <td>Lej da Pischa</td>\n",
       "      <td>Graubünden</td>\n",
       "      <td>2770</td>\n",
       "      <td>5.05</td>\n",
       "      <td>False</td>\n",
       "      <td>NaN</td>\n",
       "      <td>[46.47142909999999, 9.9790387]</td>\n",
       "      <td>True</td>\n",
       "      <td>NaN</td>\n",
       "      <td>...</td>\n",
       "      <td>NaN</td>\n",
       "      <td>NaN</td>\n",
       "      <td>NaN</td>\n",
       "      <td>NaN</td>\n",
       "      <td>NaN</td>\n",
       "      <td>NaN</td>\n",
       "      <td>NaN</td>\n",
       "      <td>NaN</td>\n",
       "      <td>NaN</td>\n",
       "      <td>NaN</td>\n",
       "    </tr>\n",
       "    <tr>\n",
       "      <th>4</th>\n",
       "      <td>5</td>\n",
       "      <td>Chaltwassersee</td>\n",
       "      <td>Valais</td>\n",
       "      <td>2756</td>\n",
       "      <td>4.41</td>\n",
       "      <td>False</td>\n",
       "      <td>NaN</td>\n",
       "      <td>[46.25839999999999, 8.078289999999999]</td>\n",
       "      <td>False</td>\n",
       "      <td>NaN</td>\n",
       "      <td>...</td>\n",
       "      <td>NaN</td>\n",
       "      <td>NaN</td>\n",
       "      <td>NaN</td>\n",
       "      <td>NaN</td>\n",
       "      <td>NaN</td>\n",
       "      <td>NaN</td>\n",
       "      <td>NaN</td>\n",
       "      <td>NaN</td>\n",
       "      <td>NaN</td>\n",
       "      <td>NaN</td>\n",
       "    </tr>\n",
       "  </tbody>\n",
       "</table>\n",
       "<p>5 rows × 22 columns</p>\n",
       "</div>"
      ],
      "text/plain": [
       "   lake_id                 Lake      Canton  Elevation  Area  is_lake_link  \\\n",
       "0        1  Theodulgletschersee      Valais       2851  7.76         False   \n",
       "1        2          Lai d'Immez  Graubünden       2832  4.53         False   \n",
       "2        3         Lej da Prüna  Graubünden       2815  4.03         False   \n",
       "3        4        Lej da Pischa  Graubünden       2770  5.05         False   \n",
       "4        5       Chaltwassersee      Valais       2756  4.41         False   \n",
       "\n",
       "                                                link  \\\n",
       "0  https://en.wikipedia.org///wiki/Theodulgletsch...   \n",
       "1                                                NaN   \n",
       "2                                                NaN   \n",
       "3                                                NaN   \n",
       "4                                                NaN   \n",
       "\n",
       "                                   latlng  with_geojson description  ...  \\\n",
       "0                   [45.971600, 7.715315]          True         NaN  ...   \n",
       "1                [46.7277984, 10.1338334]          True         NaN  ...   \n",
       "2                   [46.477777, 9.973627]          True         NaN  ...   \n",
       "3          [46.47142909999999, 9.9790387]          True         NaN  ...   \n",
       "4  [46.25839999999999, 8.078289999999999]         False         NaN  ...   \n",
       "\n",
       "  max_width max_depth water_volume Region Date Altitude   pH  \\\n",
       "0       NaN       NaN          NaN    NaN  NaN      NaN  NaN   \n",
       "1       NaN       NaN          NaN    NaN  NaN      NaN  NaN   \n",
       "2       NaN       NaN          NaN    NaN  NaN      NaN  NaN   \n",
       "3       NaN       NaN          NaN    NaN  NaN      NaN  NaN   \n",
       "4       NaN       NaN          NaN    NaN  NaN      NaN  NaN   \n",
       "\n",
       "   Conductivity(uS/cm) Temperature (°C) O2(mg/l)  \n",
       "0                  NaN              NaN      NaN  \n",
       "1                  NaN              NaN      NaN  \n",
       "2                  NaN              NaN      NaN  \n",
       "3                  NaN              NaN      NaN  \n",
       "4                  NaN              NaN      NaN  \n",
       "\n",
       "[5 rows x 22 columns]"
      ]
     },
     "execution_count": 40,
     "metadata": {},
     "output_type": "execute_result"
    }
   ],
   "source": [
    "all_lakes.head()"
   ]
  },
  {
   "cell_type": "code",
   "execution_count": 41,
   "id": "cb0f30f4",
   "metadata": {},
   "outputs": [],
   "source": [
    "cantons_name = [\"Appenzell Innerrhoden\",\n",
    "\"Bern\",\n",
    "\"Fribourg\",\n",
    "\"Glarus\",\n",
    "\"Graubünden\",\n",
    "\"Ticino\",\n",
    "\"Jura\",\n",
    "\"Neuchâtel\",\n",
    "\"Nidwalden\",\n",
    "\"Obwalden\",\n",
    "\"Schwyz\",\n",
    "\"St. Gallen\",\n",
    "\"Uri\",\n",
    "\"Valais\",\n",
    "\"Vaud\",\n",
    "\"Luzern\",\n",
    "\"Zug\",\n",
    "\"Solothurn\",\n",
    "\"Basel-Stadt\",\n",
    "\"Basel-Landschaft\",\n",
    "\"Schaffhausen\",\n",
    "\"Appenzell Ausserrhoden\",\n",
    "\"Aargau\",\n",
    "\"Thurgau\",\n",
    "\"Genève\",\n",
    "\"Zürich\"]\n",
    "\n",
    "cantons_id = [\"AI\",\n",
    "\"BE\",\n",
    "\"FR\",\n",
    "\"GL\",\n",
    "\"GR\",\n",
    "\"TI\",\n",
    "\"JU\",\n",
    "\"NE\",\n",
    "\"NW\",\n",
    "\"OW\",\n",
    "\"SZ\",\n",
    "\"SG\",\n",
    "\"UR\",\n",
    "\"VS\",\n",
    "\"VD\",\n",
    "\"LU\",\n",
    "\"ZG\",\n",
    "\"SO\",\n",
    "\"BS\",\n",
    "\"BL\",\n",
    "\"SH\",\n",
    "\"AR\",\n",
    "\"AG\",\n",
    "\"TG\",\n",
    "\"GE\",\n",
    "\"ZH\"]"
   ]
  },
  {
   "cell_type": "code",
   "execution_count": 42,
   "id": "7a102734",
   "metadata": {},
   "outputs": [],
   "source": [
    "dfc = {}\n",
    "for i in range(len(cantons_id)):\n",
    "    dfc[cantons_id[i]] = all_lakes[all_lakes[\"Canton\"].str.contains(cantons_name[i])]\n",
    "    dfc[cantons_id[i]].to_csv(cantons_id[i]+'.csv',index=False)"
   ]
  },
  {
   "cell_type": "markdown",
   "id": "4281c772",
   "metadata": {},
   "source": [
    "# Seperate lake geojson"
   ]
  },
  {
   "cell_type": "code",
   "execution_count": 12,
   "id": "9b67f3ad",
   "metadata": {},
   "outputs": [],
   "source": [
    "import geojson\n",
    "with open('target_lakes.geojson') as f:\n",
    "    gj = geojson.load(f)"
   ]
  },
  {
   "cell_type": "code",
   "execution_count": 34,
   "id": "a098de6a",
   "metadata": {},
   "outputs": [],
   "source": [
    "saved_geo = {}\n",
    "for i in range(len(gj['features'])):\n",
    "    if(gj['features'][i]['properties']['name'] in list(all_lakes['Lake'])):\n",
    "        k = all_lakes[all_lakes[\"Lake\"]==gj['features'][i]['properties']['name']].iloc[0][\"lake_id\"]\n",
    "        if(k in saved_geo):\n",
    "            saved_geo[k].append(gj['features'][i])\n",
    "        else:\n",
    "            saved_geo[k] = [gj['features'][i]]"
   ]
  },
  {
   "cell_type": "code",
   "execution_count": 38,
   "id": "aa9e57c4",
   "metadata": {},
   "outputs": [],
   "source": [
    "for key in saved_geo:\n",
    "    gj['features'] = saved_geo[key]\n",
    "    with open(str(key)+'.geojson', 'w') as f:   \n",
    "        geojson.dump(gj, f)\n",
    "    "
   ]
  },
  {
   "cell_type": "code",
   "execution_count": null,
   "id": "74b464b9",
   "metadata": {},
   "outputs": [],
   "source": []
  },
  {
   "cell_type": "markdown",
   "id": "ab684bc8",
   "metadata": {},
   "source": [
    "# Distribution of measured values"
   ]
  },
  {
   "cell_type": "code",
   "execution_count": 12,
   "id": "ffc8c3ec",
   "metadata": {},
   "outputs": [],
   "source": [
    "all_lakes = pd.read_csv(\"full_data.csv\")"
   ]
  },
  {
   "cell_type": "code",
   "execution_count": 13,
   "id": "9424f0de",
   "metadata": {},
   "outputs": [],
   "source": [
    "all_lakes['pH'] = all_lakes['pH'].str.replace(',','.')\n",
    "all_lakes['Conductivity'] = all_lakes['Conductivity'].str.replace(',','.')\n",
    "all_lakes['Temperature'] = all_lakes['Temperature'].str.replace(',','.')\n",
    "all_lakes['O2'] = all_lakes['O2'].str.replace(',','.')"
   ]
  },
  {
   "cell_type": "code",
   "execution_count": 14,
   "id": "00f6b19c",
   "metadata": {},
   "outputs": [
    {
     "data": {
      "text/plain": [
       "<AxesSubplot:xlabel='lake_id', ylabel='pH'>"
      ]
     },
     "execution_count": 14,
     "metadata": {},
     "output_type": "execute_result"
    },
    {
     "data": {
      "image/png": "[encoded data removed]",
      "text/plain": [
       "<Figure size 432x288 with 1 Axes>"
      ]
     },
     "metadata": {
      "needs_background": "light"
     },
     "output_type": "display_data"
    }
   ],
   "source": [
    "all_lakes.plot.scatter(x=\"lake_id\", y=\"pH\", alpha=0.5)"
   ]
  },
  {
   "cell_type": "code",
   "execution_count": 15,
   "id": "115cab88",
   "metadata": {},
   "outputs": [
    {
     "data": {
      "text/plain": [
       "<AxesSubplot:xlabel='lake_id', ylabel='Conductivity'>"
      ]
     },
     "execution_count": 15,
     "metadata": {},
     "output_type": "execute_result"
    },
    {
     "data": {
      "image/png": "[encoded data removed]",
      "text/plain": [
       "<Figure size 432x288 with 1 Axes>"
      ]
     },
     "metadata": {
      "needs_background": "light"
     },
     "output_type": "display_data"
    }
   ],
   "source": [
    "all_lakes.plot.scatter(x=\"lake_id\", y=\"Conductivity\", alpha=0.5)"
   ]
  },
  {
   "cell_type": "code",
   "execution_count": 16,
   "id": "031ec35b",
   "metadata": {},
   "outputs": [
    {
     "data": {
      "text/plain": [
       "<AxesSubplot:xlabel='lake_id', ylabel='Temperature'>"
      ]
     },
     "execution_count": 16,
     "metadata": {},
     "output_type": "execute_result"
    },
    {
     "data": {
      "image/png": "[encoded data removed]",
      "text/plain": [
       "<Figure size 432x288 with 1 Axes>"
      ]
     },
     "metadata": {
      "needs_background": "light"
     },
     "output_type": "display_data"
    }
   ],
   "source": [
    "all_lakes.plot.scatter(x=\"lake_id\", y=\"Temperature\", alpha=0.5)"
   ]
  },
  {
   "cell_type": "code",
   "execution_count": 17,
   "id": "9bba2976",
   "metadata": {},
   "outputs": [
    {
     "data": {
      "text/plain": [
       "<AxesSubplot:xlabel='lake_id', ylabel='O2'>"
      ]
     },
     "execution_count": 17,
     "metadata": {},
     "output_type": "execute_result"
    },
    {
     "data": {
      "image/png": "[encoded data removed]",
      "text/plain": [
       "<Figure size 432x288 with 1 Axes>"
      ]
     },
     "metadata": {
      "needs_background": "light"
     },
     "output_type": "display_data"
    }
   ],
   "source": [
    "all_lakes.plot.scatter(x=\"lake_id\", y=\"O2\", alpha=0.5)"
   ]
  },
  {
   "cell_type": "code",
   "execution_count": null,
   "id": "6c293cad",
   "metadata": {},
   "outputs": [],
   "source": []
  },
  {
   "cell_type": "code",
   "execution_count": null,
   "id": "077d366f",
   "metadata": {},
   "outputs": [],
   "source": []
  },
  {
   "cell_type": "code",
   "execution_count": null,
   "id": "c68efaee",
   "metadata": {},
   "outputs": [],
   "source": []
  },
  {
   "cell_type": "markdown",
   "id": "641632ce",
   "metadata": {},
   "source": [
    "## Get photos with timestamp"
   ]
  },
  {
   "cell_type": "code",
   "execution_count": null,
   "id": "85b86d59",
   "metadata": {},
   "outputs": [],
   "source": [
    "key = \"-\"\n",
    "google_url = \"http://maps.googleapis.com/maps/api/js?key=\""
   ]
  },
  {
   "cell_type": "code",
   "execution_count": null,
   "id": "526c9e23",
   "metadata": {},
   "outputs": [],
   "source": [
    "url = \"https://maps.googleapis.com/maps/api/place/photo?place_id=ChIJN1t_tDeuEmsRUsoyG83frY4&fields=name%2Crating%2Cformatted_phone_number&key=YOUR_API_KEY\"\n",
    "\n",
    "payload={}\n",
    "headers = {}\n",
    "\n",
    "response = requests.request(\"GET\", url, headers=headers, data=payload)\n",
    "\n",
    "print(response.text)"
   ]
  }
 ],
 "metadata": {
  "kernelspec": {
   "display_name": "Python 3 (ipykernel)",
   "language": "python",
   "name": "python3"
  },
  "language_info": {
   "codemirror_mode": {
    "name": "ipython",
    "version": 3
   },
   "file_extension": ".py",
   "mimetype": "text/x-python",
   "name": "python",
   "nbconvert_exporter": "python",
   "pygments_lexer": "ipython3",
   "version": "3.9.7"
  }
 },
 "nbformat": 4,
 "nbformat_minor": 5
}
